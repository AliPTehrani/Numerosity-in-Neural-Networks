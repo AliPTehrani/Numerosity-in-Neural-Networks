{
  "nbformat": 4,
  "nbformat_minor": 0,
  "metadata": {
    "accelerator": "GPU",
    "colab": {
      "name": "ImportProjectToColab.ipynb",
      "provenance": [],
      "collapsed_sections": [],
      "machine_shape": "hm"
    },
    "kernelspec": {
      "display_name": "Python 3",
      "name": "python3"
    }
  },
  "cells": [
    {
      "cell_type": "markdown",
      "metadata": {
        "id": "_cS9kbtWQB2g"
      },
      "source": [
        "# **Step one:**\n",
        "\n",
        "The first step is to clone the Repository. "
      ]
    },
    {
      "cell_type": "code",
      "metadata": {
        "colab": {
          "base_uri": "https://localhost:8080/"
        },
        "id": "YO97TaPO1OU0",
        "outputId": "bae021f0-e83b-4451-a119-e5fa4680ecc2"
      },
      "source": [
        "#First clone my Repo\n",
        "#Add your username and developer token here\n",
        "!git clone https://github.com/AliPTehrani/Numerosity-in-Neural-Networks.git"
      ],
      "execution_count": null,
      "outputs": [
        {
          "output_type": "stream",
          "text": [
            "Cloning into 'Numerosity-in-Neural-Networks'...\n",
            "remote: Enumerating objects: 10000, done.\u001b[K\n",
            "remote: Counting objects: 100% (1022/1022), done.\u001b[K\n",
            "remote: Compressing objects: 100% (849/849), done.\u001b[K\n",
            "remote: Total 10000 (delta 303), reused 881 (delta 170), pack-reused 8978\u001b[K\n",
            "Receiving objects: 100% (10000/10000), 95.48 MiB | 37.97 MiB/s, done.\n",
            "Resolving deltas: 100% (6613/6613), done.\n",
            "Checking out files: 100% (10048/10048), done.\n"
          ],
          "name": "stdout"
        }
      ]
    },
    {
      "cell_type": "markdown",
      "metadata": {
        "id": "EZFqq6fZQVxh"
      },
      "source": [
        "# **Step two:**\n",
        "\n",
        "Install the dependencies below:"
      ]
    },
    {
      "cell_type": "code",
      "metadata": {
        "id": "5uolk4wFHAkg"
      },
      "source": [
        "# install dependencies: (use cu101 because colab has CUDA 10.1)\n",
        "\n",
        "!pip install torch==1.8.0+cu101 torchvision==0.9.0+cu101 torchaudio===0.8.0 -f https://download.pytorch.org/whl/torch_stable.html\n",
        "!pip install cython pyyaml==5.1\n",
        "!pip install -U 'git+https://github.com/cocodataset/cocoapi.git#subdirectory=PythonAPI'\n",
        "import torch, torchvision\n",
        "print(torch.__version__, torch.cuda.is_available())\n",
        "!gcc --version\n",
        "!pip install timm\n",
        "# opencv is pre-installed on colab"
      ],
      "execution_count": null,
      "outputs": []
    },
    {
      "cell_type": "markdown",
      "metadata": {
        "id": "FZ9RLDfyQfZx"
      },
      "source": [
        "# **Step three:**\n",
        "**First restart the runtime!**\n",
        "Then run this cell to start the UI\n"
      ]
    },
    {
      "cell_type": "code",
      "metadata": {
        "colab": {
          "base_uri": "https://localhost:8080/",
          "height": 1000
        },
        "id": "Lmvg91DSB5TV",
        "outputId": "9cdb1b0a-04b0-400c-d762-9de514607e34"
      },
      "source": [
        "#After installing everything run this cell - The Code should work now :)\n",
        "%cd /content/Numerosity-in-Neural-Networks//\n",
        "from UI_main import main_ui\n",
        "main_ui()"
      ],
      "execution_count": null,
      "outputs": [
        {
          "output_type": "stream",
          "text": [
            "/content/Numerosity-in-Neural-Networks\n",
            "Network Table:\n",
            "+----+---------+\n",
            "| ID | Network |\n",
            "+----+---------+\n",
            "| 1  | AlexNet |\n",
            "+----+---------+\n",
            "| 2  |  CorNet |\n",
            "+----+---------+\n",
            "| 3  |  ResNet |\n",
            "+----+---------+\n",
            "| 4  |   VGG   |\n",
            "+----+---------+\n",
            "Please enter the ID of the Architecture from the table above:3\n",
            "Architecture Table for Resnet:\n",
            "+----+---------------+-------------------+\n",
            "| ID |  Architecture | Pretrained/Random |\n",
            "+----+---------------+-------------------+\n",
            "| 1  |    resnet18   |     Pretrained    |\n",
            "+----+---------------+-------------------+\n",
            "| 2  |    resnet18   |       Random      |\n",
            "+----+---------------+-------------------+\n",
            "| 3  |    resnet34   |     Pretrained    |\n",
            "+----+---------------+-------------------+\n",
            "| 4  |    resnet34   |       Random      |\n",
            "+----+---------------+-------------------+\n",
            "| 5  | resnet50_load |     Pretrained    |\n",
            "+----+---------------+-------------------+\n",
            "| 6  | resnet50_load |       Random      |\n",
            "+----+---------------+-------------------+\n",
            "| 7  |   resnet101   |     Pretrained    |\n",
            "+----+---------------+-------------------+\n",
            "| 8  |   resnet101   |       Random      |\n",
            "+----+---------------+-------------------+\n",
            "| 9  |   resnet152   |     Pretrained    |\n",
            "+----+---------------+-------------------+\n",
            "| 10 |   resnet152   |       Random      |\n",
            "+----+---------------+-------------------+\n",
            "Please enter the ID of the Architecture-Setting from the table above:4\n",
            "Choosed models ['Resnet34 random']\n",
            "Would you like to choose more models?\n",
            "Please enter 1 to proceed choosing more models, enter 0 to stop choosing models:0\n",
            "Finished choosing models.\n",
            "Generate features ? Enter 1 for yes:1\n",
            "Features for all subjects and stimuli will be generated.\n",
            "This might take a while please be patient.\n",
            "Generating features in: Resnet34 random results\n"
          ],
          "name": "stdout"
        },
        {
          "output_type": "stream",
          "text": [
            "100%|██████████| 8647/8647 [03:08<00:00, 45.99it/s]\n"
          ],
          "name": "stderr"
        },
        {
          "output_type": "stream",
          "text": [
            "Generate RDMs ? Enter 1 for yes:1\n",
            "RDMs will be created in: Resnet34 random results\n"
          ],
          "name": "stdout"
        },
        {
          "output_type": "stream",
          "text": [
            "100%|██████████| 20/20 [03:07<00:00,  9.39s/it]\n"
          ],
          "name": "stderr"
        },
        {
          "output_type": "stream",
          "text": [
            "Generate beta weights Graph (Multiple Regression)? Enter 1 for yes:1\n",
            "Option 1 : Yield beta weights from the averaged RDMs.\n",
            "Option 2 : Perform multiple regression for every subject layer. Average after.\n",
            "Please choose option (1/2):1\n",
            "Multiple regression was performed on average RDMs. Graph is created in: Resnet34 random results\n",
            "Would you like to also create option 2? Enter 1 for yes:1\n",
            "Multiple regression was performed on every subject. Averaged Graph is created in: Resnet34 random results\n",
            "Create RSA (Brain RDMs vs Network RDMs)? Enter 1 for yes:1\n",
            "Choose option for brain rdms.\n",
            "Enter 1 for TaskBoth\n",
            "Enter 2 for TaskNum\n",
            "Enter 3 for TaskSize\n",
            "Enter the option (1,2,3):1\n",
            "Heatmap was created in: Resnet34 random results\\average_results\n",
            "Would you like to create more heatmaps? Enter 1 for yes:1\n",
            "Choose option for brain rdms.\n",
            "Enter 1 for TaskBoth\n",
            "Enter 2 for TaskNum\n",
            "Enter 3 for TaskSize\n",
            "Enter the option (1,2,3):1\n",
            "Heatmap was created in: Resnet34 random results\\average_results\n",
            "Would you like to create more heatmaps? Enter 1 for yes:1\n",
            "Choose option for brain rdms.\n",
            "Enter 1 for TaskBoth\n",
            "Enter 2 for TaskNum\n",
            "Enter 3 for TaskSize\n",
            "Enter the option (1,2,3):2\n",
            "Heatmap was created in: Resnet34 random results\\average_results\n",
            "Would you like to create more heatmaps? Enter 1 for yes:1\n",
            "Choose option for brain rdms.\n",
            "Enter 1 for TaskBoth\n",
            "Enter 2 for TaskNum\n",
            "Enter 3 for TaskSize\n",
            "Enter the option (1,2,3):3\n",
            "Heatmap was created in: Resnet34 random results\\average_results\n",
            "Would you like to create more heatmaps? Enter 1 for yes:\n",
            "Perform noise ceiling? Enter 1 for yes:1\n",
            "Choose option of Brain RDMs\n",
            "Enter 1 for TaskBoth\n",
            "Enter 2 for TaskNum\n",
            "Enter 3 for TaskSize\n",
            "Enter the option (1,2,3):1\n",
            "Warning: Noise Ceiling could not be performed!\n",
            "Please make sure that RDMs were generated before.\n",
            "Delete npz files to save memory? Enter 1 for yes:1\n",
            "NPZ files will be deleted!\n"
          ],
          "name": "stdout"
        },
        {
          "output_type": "error",
          "ename": "TypeError",
          "evalue": "ignored",
          "traceback": [
            "\u001b[0;31m---------------------------------------------------------------------------\u001b[0m",
            "\u001b[0;31mTypeError\u001b[0m                                 Traceback (most recent call last)",
            "\u001b[0;32m<ipython-input-13-9586d08dfdc9>\u001b[0m in \u001b[0;36m<module>\u001b[0;34m()\u001b[0m\n\u001b[1;32m      2\u001b[0m \u001b[0mget_ipython\u001b[0m\u001b[0;34m(\u001b[0m\u001b[0;34m)\u001b[0m\u001b[0;34m.\u001b[0m\u001b[0mmagic\u001b[0m\u001b[0;34m(\u001b[0m\u001b[0;34m'cd /content/Numerosity-in-Neural-Networks//'\u001b[0m\u001b[0;34m)\u001b[0m\u001b[0;34m\u001b[0m\u001b[0;34m\u001b[0m\u001b[0m\n\u001b[1;32m      3\u001b[0m \u001b[0;32mfrom\u001b[0m \u001b[0mUI_main\u001b[0m \u001b[0;32mimport\u001b[0m \u001b[0mmain_ui\u001b[0m\u001b[0;34m\u001b[0m\u001b[0;34m\u001b[0m\u001b[0m\n\u001b[0;32m----> 4\u001b[0;31m \u001b[0mmain_ui\u001b[0m\u001b[0;34m(\u001b[0m\u001b[0;34m)\u001b[0m\u001b[0;34m\u001b[0m\u001b[0;34m\u001b[0m\u001b[0m\n\u001b[0m",
            "\u001b[0;32m/content/Numerosity-in-Neural-Networks/UI_main.py\u001b[0m in \u001b[0;36mmain_ui\u001b[0;34m()\u001b[0m\n\u001b[1;32m    475\u001b[0m     \u001b[0;32mif\u001b[0m \u001b[0mdelete_files_bool\u001b[0m \u001b[0;34m==\u001b[0m \u001b[0;34m\"1\"\u001b[0m\u001b[0;34m:\u001b[0m\u001b[0;34m\u001b[0m\u001b[0;34m\u001b[0m\u001b[0m\n\u001b[1;32m    476\u001b[0m         \u001b[0mprint\u001b[0m\u001b[0;34m(\u001b[0m\u001b[0;34m\"NPZ files will be deleted!\"\u001b[0m\u001b[0;34m)\u001b[0m\u001b[0;34m\u001b[0m\u001b[0;34m\u001b[0m\u001b[0m\n\u001b[0;32m--> 477\u001b[0;31m         \u001b[0mhelper\u001b[0m\u001b[0;34m.\u001b[0m\u001b[0mdelete_files\u001b[0m\u001b[0;34m(\u001b[0m\u001b[0mchoosen_models_info\u001b[0m\u001b[0;34m)\u001b[0m\u001b[0;34m\u001b[0m\u001b[0;34m\u001b[0m\u001b[0m\n\u001b[0m\u001b[1;32m    478\u001b[0m     \u001b[0;32melse\u001b[0m\u001b[0;34m:\u001b[0m\u001b[0;34m\u001b[0m\u001b[0;34m\u001b[0m\u001b[0m\n\u001b[1;32m    479\u001b[0m         \u001b[0mprint\u001b[0m\u001b[0;34m(\u001b[0m\u001b[0;34m\"NPZ files will not be deleted!\"\u001b[0m\u001b[0;34m)\u001b[0m\u001b[0;34m\u001b[0m\u001b[0;34m\u001b[0m\u001b[0m\n",
            "\u001b[0;32m/content/Numerosity-in-Neural-Networks/helper.py\u001b[0m in \u001b[0;36mdelete_files\u001b[0;34m(result_paths)\u001b[0m\n\u001b[1;32m     89\u001b[0m \u001b[0;32mdef\u001b[0m \u001b[0mdelete_files\u001b[0m\u001b[0;34m(\u001b[0m\u001b[0mresult_paths\u001b[0m\u001b[0;34m)\u001b[0m\u001b[0;34m:\u001b[0m\u001b[0;34m\u001b[0m\u001b[0;34m\u001b[0m\u001b[0m\n\u001b[1;32m     90\u001b[0m     \u001b[0;32mfor\u001b[0m \u001b[0mresult_path\u001b[0m \u001b[0;32min\u001b[0m \u001b[0mresult_paths\u001b[0m\u001b[0;34m:\u001b[0m\u001b[0;34m\u001b[0m\u001b[0;34m\u001b[0m\u001b[0m\n\u001b[0;32m---> 91\u001b[0;31m         \u001b[0mnpz_files\u001b[0m \u001b[0;34m=\u001b[0m \u001b[0mglob\u001b[0m\u001b[0;34m.\u001b[0m\u001b[0mglob\u001b[0m\u001b[0;34m(\u001b[0m\u001b[0mresult_path\u001b[0m \u001b[0;34m+\u001b[0m \u001b[0;34m\"/**/*.npz\"\u001b[0m\u001b[0;34m,\u001b[0m \u001b[0mrecursive\u001b[0m\u001b[0;34m=\u001b[0m\u001b[0;32mTrue\u001b[0m\u001b[0;34m)\u001b[0m\u001b[0;34m\u001b[0m\u001b[0;34m\u001b[0m\u001b[0m\n\u001b[0m\u001b[1;32m     92\u001b[0m         \u001b[0;32mfor\u001b[0m \u001b[0mnpz_file\u001b[0m \u001b[0;32min\u001b[0m \u001b[0mnpz_files\u001b[0m\u001b[0;34m:\u001b[0m\u001b[0;34m\u001b[0m\u001b[0;34m\u001b[0m\u001b[0m\n\u001b[1;32m     93\u001b[0m             \u001b[0mos\u001b[0m\u001b[0;34m.\u001b[0m\u001b[0mremove\u001b[0m\u001b[0;34m(\u001b[0m\u001b[0mnpz_file\u001b[0m\u001b[0;34m)\u001b[0m\u001b[0;34m\u001b[0m\u001b[0;34m\u001b[0m\u001b[0m\n",
            "\u001b[0;31mTypeError\u001b[0m: can only concatenate list (not \"str\") to list"
          ]
        },
        {
          "output_type": "display_data",
          "data": {
            "text/plain": [
              "<Figure size 460.8x316.8 with 0 Axes>"
            ]
          },
          "metadata": {}
        }
      ]
    },
    {
      "cell_type": "markdown",
      "metadata": {
        "id": "EdSvhpZWxAJF"
      },
      "source": [
        ""
      ]
    },
    {
      "cell_type": "markdown",
      "metadata": {
        "id": "Sr2OEE62smGt"
      },
      "source": [
        "# **Step four:**\n",
        "\n",
        "Connect to Google drive and move the evaluation results to Google drive."
      ]
    },
    {
      "cell_type": "code",
      "metadata": {
        "id": "Afi-_JVhsoAC",
        "colab": {
          "base_uri": "https://localhost:8080/",
          "height": 316
        },
        "outputId": "eaf436a1-7f49-4101-9f7d-8dff0183768c"
      },
      "source": [
        "from google.colab import drive\n",
        "import shutil\n",
        "\n",
        "# 1.)Connect google drive to colab\n",
        "drive.mount('/content/gdrive')  # If google drive is already connected use the # to comment this line\n",
        "# 2.) Move the directory with the results into google drive\n",
        "# Please check that the save path is for the correct model\n",
        "evalutaion_results_path = \"/content/Numerosity-in-Neural-Networks/Resnet34 random results/RDM_Evaluation_Results\"\n",
        "shutil.move(evalutaion_results_path, \"/content/gdrive/MyDrive\") \n"
      ],
      "execution_count": null,
      "outputs": [
        {
          "output_type": "error",
          "ename": "Error",
          "evalue": "ignored",
          "traceback": [
            "\u001b[0;31m---------------------------------------------------------------------------\u001b[0m",
            "\u001b[0;31mError\u001b[0m                                     Traceback (most recent call last)",
            "\u001b[0;32m<ipython-input-17-698e6d3e673a>\u001b[0m in \u001b[0;36m<module>\u001b[0;34m()\u001b[0m\n\u001b[1;32m     10\u001b[0m \u001b[0maverage_rdms_path\u001b[0m \u001b[0;34m=\u001b[0m \u001b[0;34m\"/content/Numerosity-in-Neural-Networks/Cornet_s random results/average_rdms\"\u001b[0m\u001b[0;34m\u001b[0m\u001b[0;34m\u001b[0m\u001b[0m\n\u001b[1;32m     11\u001b[0m \u001b[0mshutil\u001b[0m\u001b[0;34m.\u001b[0m\u001b[0mmove\u001b[0m\u001b[0;34m(\u001b[0m\u001b[0mevalutaion_results_path\u001b[0m\u001b[0;34m,\u001b[0m \u001b[0;34m\"/content/gdrive/MyDrive\"\u001b[0m\u001b[0;34m)\u001b[0m\u001b[0;34m\u001b[0m\u001b[0;34m\u001b[0m\u001b[0m\n\u001b[0;32m---> 12\u001b[0;31m \u001b[0mshutil\u001b[0m\u001b[0;34m.\u001b[0m\u001b[0mmove\u001b[0m\u001b[0;34m(\u001b[0m\u001b[0maverage_rdms_path\u001b[0m\u001b[0;34m,\u001b[0m \u001b[0;34m\"/content/gdrive/MyDrive\"\u001b[0m\u001b[0;34m)\u001b[0m\u001b[0;34m\u001b[0m\u001b[0;34m\u001b[0m\u001b[0m\n\u001b[0m",
            "\u001b[0;32m/usr/lib/python3.7/shutil.py\u001b[0m in \u001b[0;36mmove\u001b[0;34m(src, dst, copy_function)\u001b[0m\n\u001b[1;32m    562\u001b[0m         \u001b[0mreal_dst\u001b[0m \u001b[0;34m=\u001b[0m \u001b[0mos\u001b[0m\u001b[0;34m.\u001b[0m\u001b[0mpath\u001b[0m\u001b[0;34m.\u001b[0m\u001b[0mjoin\u001b[0m\u001b[0;34m(\u001b[0m\u001b[0mdst\u001b[0m\u001b[0;34m,\u001b[0m \u001b[0m_basename\u001b[0m\u001b[0;34m(\u001b[0m\u001b[0msrc\u001b[0m\u001b[0;34m)\u001b[0m\u001b[0;34m)\u001b[0m\u001b[0;34m\u001b[0m\u001b[0;34m\u001b[0m\u001b[0m\n\u001b[1;32m    563\u001b[0m         \u001b[0;32mif\u001b[0m \u001b[0mos\u001b[0m\u001b[0;34m.\u001b[0m\u001b[0mpath\u001b[0m\u001b[0;34m.\u001b[0m\u001b[0mexists\u001b[0m\u001b[0;34m(\u001b[0m\u001b[0mreal_dst\u001b[0m\u001b[0;34m)\u001b[0m\u001b[0;34m:\u001b[0m\u001b[0;34m\u001b[0m\u001b[0;34m\u001b[0m\u001b[0m\n\u001b[0;32m--> 564\u001b[0;31m             \u001b[0;32mraise\u001b[0m \u001b[0mError\u001b[0m\u001b[0;34m(\u001b[0m\u001b[0;34m\"Destination path '%s' already exists\"\u001b[0m \u001b[0;34m%\u001b[0m \u001b[0mreal_dst\u001b[0m\u001b[0;34m)\u001b[0m\u001b[0;34m\u001b[0m\u001b[0;34m\u001b[0m\u001b[0m\n\u001b[0m\u001b[1;32m    565\u001b[0m     \u001b[0;32mtry\u001b[0m\u001b[0;34m:\u001b[0m\u001b[0;34m\u001b[0m\u001b[0;34m\u001b[0m\u001b[0m\n\u001b[1;32m    566\u001b[0m         \u001b[0mos\u001b[0m\u001b[0;34m.\u001b[0m\u001b[0mrename\u001b[0m\u001b[0;34m(\u001b[0m\u001b[0msrc\u001b[0m\u001b[0;34m,\u001b[0m \u001b[0mreal_dst\u001b[0m\u001b[0;34m)\u001b[0m\u001b[0;34m\u001b[0m\u001b[0;34m\u001b[0m\u001b[0m\n",
            "\u001b[0;31mError\u001b[0m: Destination path '/content/gdrive/MyDrive/average_rdms' already exists"
          ]
        }
      ]
    },
    {
      "cell_type": "markdown",
      "metadata": {
        "id": "M_Q_-lGAxYTf"
      },
      "source": [
        "# **Step five:**\n",
        "\n",
        "Delete the Model result directory to save space."
      ]
    },
    {
      "cell_type": "code",
      "metadata": {
        "id": "DrXu1FAc7_41"
      },
      "source": [
        "# delete folder if space is needed\n",
        "path = \"/content/Numerosity-in-Neural-Networks/Cornet_rt random results\"\n",
        "path = \"/content/gdrive/MyDrive/RDM_Evaluation_Results\"\n",
        "shutil.rmtree(path)"
      ],
      "execution_count": null,
      "outputs": []
    }
  ]
}